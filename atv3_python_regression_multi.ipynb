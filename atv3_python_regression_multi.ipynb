{
  "nbformat": 4,
  "nbformat_minor": 0,
  "metadata": {
    "colab": {
      "provenance": [],
      "authorship_tag": "ABX9TyM4KPctSACDTQPjPZ0RYzgO",
      "include_colab_link": true
    },
    "kernelspec": {
      "name": "python3",
      "display_name": "Python 3"
    },
    "language_info": {
      "name": "python"
    }
  },
  "cells": [
    {
      "cell_type": "markdown",
      "metadata": {
        "id": "view-in-github",
        "colab_type": "text"
      },
      "source": [
        "<a href=\"https://colab.research.google.com/github/AntonioFialhoSN/atv3_python_regression_multi/blob/main/atv3_python_regression_multi.ipynb\" target=\"_parent\"><img src=\"https://colab.research.google.com/assets/colab-badge.svg\" alt=\"Open In Colab\"/></a>"
      ]
    },
    {
      "cell_type": "markdown",
      "source": [],
      "metadata": {
        "id": "pzoPXcVzkdoY"
      }
    },
    {
      "cell_type": "code",
      "execution_count": null,
      "metadata": {
        "id": "m6TJVXzWkRgr"
      },
      "outputs": [],
      "source": []
    },
    {
      "cell_type": "markdown",
      "source": [],
      "metadata": {
        "id": "K8n23IYtkelf"
      }
    },
    {
      "cell_type": "code",
      "source": [],
      "metadata": {
        "id": "mQHK6kb5kfZP"
      },
      "execution_count": null,
      "outputs": []
    },
    {
      "cell_type": "markdown",
      "source": [],
      "metadata": {
        "id": "x84o3R7akf6v"
      }
    },
    {
      "cell_type": "code",
      "source": [],
      "metadata": {
        "id": "hBYU1SMnkgeJ"
      },
      "execution_count": null,
      "outputs": []
    },
    {
      "cell_type": "markdown",
      "source": [],
      "metadata": {
        "id": "s4DHl37xkgyI"
      }
    },
    {
      "cell_type": "code",
      "source": [],
      "metadata": {
        "id": "fCWyRs-QkdWf"
      },
      "execution_count": null,
      "outputs": []
    }
  ]
}