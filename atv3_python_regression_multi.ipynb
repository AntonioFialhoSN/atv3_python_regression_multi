{
  "nbformat": 4,
  "nbformat_minor": 0,
  "metadata": {
    "colab": {
      "provenance": [],
      "authorship_tag": "ABX9TyP+gqiRA+7UWJifYOe/9T+5",
      "include_colab_link": true
    },
    "kernelspec": {
      "name": "python3",
      "display_name": "Python 3"
    },
    "language_info": {
      "name": "python"
    }
  },
  "cells": [
    {
      "cell_type": "markdown",
      "metadata": {
        "id": "view-in-github",
        "colab_type": "text"
      },
      "source": [
        "<a href=\"https://colab.research.google.com/github/AntonioFialhoSN/atv3_python_regression_multi/blob/main/atv3_python_regression_multi.ipynb\" target=\"_parent\"><img src=\"https://colab.research.google.com/assets/colab-badge.svg\" alt=\"Open In Colab\"/></a>"
      ]
    },
    {
      "cell_type": "markdown",
      "source": [
        "#Redes Neurais"
      ],
      "metadata": {
        "id": "VHwGt09blz43"
      }
    },
    {
      "cell_type": "markdown",
      "source": [
        "##compute_cost_multi.py\n"
      ],
      "metadata": {
        "id": "pzoPXcVzkdoY"
      }
    },
    {
      "cell_type": "code",
      "execution_count": 1,
      "metadata": {
        "id": "m6TJVXzWkRgr"
      },
      "outputs": [],
      "source": [
        "# Functions/compute_cost_multi.py\n",
        "\"\"\"\n",
        "@file compute_cost_multi.py\n",
        "@brief Computes the cost for multivariate linear regression.\n",
        "@details Este módulo contém uma função para calcular o custo de um modelo de regressão linear\n",
        "          multivariada utilizando a função de custo de erro quadrático médio.\n",
        "@author Your Name <your.email@example.com>\n",
        "\"\"\"\n",
        "\n",
        "import numpy as np\n",
        "\n",
        "\n",
        "def compute_cost_multi(X, y, theta):\n",
        "    \"\"\"\n",
        "    Calcula o custo para regressão linear multivariada.\n",
        "\n",
        "    A função de custo é definida como:\n",
        "        J(θ) = (1 / (2m)) * (Xθ - y)ᵀ (Xθ - y)\n",
        "\n",
        "    :param (ndarray) X: Matriz de features incluindo o termo de intercepto (shape: m × n+1).\n",
        "    :param (ndarray) y: Vetor de valores alvo (shape: m,).\n",
        "    :param (ndarray) theta: Vetor de parâmetros (shape: n+1,).\n",
        "    :return (float): Valor do custo calculado.\n",
        "    \"\"\"\n",
        "    # get the number of training examples\n",
        "    m = y.shape[0]\n",
        "\n",
        "    # compute the predictions using the linear model by formula h(θ) = X @ θ\n",
        "    predictions = X @ theta\n",
        "\n",
        "    # compute the error vector between predictions and actual values\n",
        "    errors = predictions - y\n",
        "\n",
        "    # compute the cost as the mean squared error cost function\n",
        "    cost = (1 / (2 * m)) * np.dot(errors, errors)\n",
        "\n",
        "    return cost\n"
      ]
    },
    {
      "cell_type": "markdown",
      "source": [
        "##features_normalize.py"
      ],
      "metadata": {
        "id": "K8n23IYtkelf"
      }
    },
    {
      "cell_type": "code",
      "source": [],
      "metadata": {
        "id": "mQHK6kb5kfZP"
      },
      "execution_count": null,
      "outputs": []
    },
    {
      "cell_type": "markdown",
      "source": [
        "##gradient_descent_multi.py"
      ],
      "metadata": {
        "id": "x84o3R7akf6v"
      }
    },
    {
      "cell_type": "code",
      "source": [],
      "metadata": {
        "id": "hBYU1SMnkgeJ"
      },
      "execution_count": null,
      "outputs": []
    },
    {
      "cell_type": "markdown",
      "source": [
        "##normal_eqn.py"
      ],
      "metadata": {
        "id": "s4DHl37xkgyI"
      }
    },
    {
      "cell_type": "code",
      "source": [],
      "metadata": {
        "id": "fCWyRs-QkdWf"
      },
      "execution_count": null,
      "outputs": []
    },
    {
      "cell_type": "markdown",
      "source": [
        "##regressao-multivariada-ex.py"
      ],
      "metadata": {
        "id": "GX2dq4Ptlk3v"
      }
    },
    {
      "cell_type": "code",
      "source": [],
      "metadata": {
        "id": "v584t9AdlkmH"
      },
      "execution_count": null,
      "outputs": []
    }
  ]
}